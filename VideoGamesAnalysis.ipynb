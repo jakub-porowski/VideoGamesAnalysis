{
  "nbformat": 4,
  "nbformat_minor": 0,
  "metadata": {
    "colab": {
      "name": "VideoGamesAnalysis",
      "provenance": [],
      "mount_file_id": "1qnkS1WlfloLOewsinJmfEnRBULvKP4a-",
      "authorship_tag": "ABX9TyPT0E45I4a8SvOjkLy5Yx8A",
      "include_colab_link": true
    },
    "kernelspec": {
      "name": "python3",
      "display_name": "Python 3"
    }
  },
  "cells": [
    {
      "cell_type": "markdown",
      "metadata": {
        "id": "view-in-github",
        "colab_type": "text"
      },
      "source": [
        "<a href=\"https://colab.research.google.com/github/jakub-porowski/VideoGamesAnalysis/blob/Workspace/VideoGamesAnalysis.ipynb\" target=\"_parent\"><img src=\"https://colab.research.google.com/assets/colab-badge.svg\" alt=\"Open In Colab\"/></a>"
      ]
    },
    {
      "cell_type": "code",
      "metadata": {
        "id": "5kmT7kfeaf62",
        "cellView": "code"
      },
      "source": [
        "def load_data():\n",
        "    import numpy as np\n",
        "    import seaborn as sns\n",
        "    import pandas as pd\n",
        "    from matplotlib import pyplot as plt\n",
        "    url = 'https://raw.githubusercontent.com/jakub-porowski/VideoGamesAnalysis/main/vgsales-12-4-2019-short.csv'\n",
        "    vgs = pd.read_csv(url)\n",
        "\n",
        "def All_data_description():\n",
        "  vgs.info()\n",
        "  print(\" \")\n",
        "  for i in vgs:\n",
        "    print(vgs[i].describe())\n",
        "    print(\" \")\n",
        "    \n",
        "columns = []\n",
        "def Choose_columns():\n",
        "  print(\"Do you want to choose column? \")\n",
        "  addcolumn = input()\n",
        "  if addcolumn == \"yes\":\n",
        "    print(\"which one?\")\n",
        "    column=input()\n",
        "    columns.append(column)\n",
        "    Choose_columns()\n",
        "\n",
        "def Show_specific_column_description():\n",
        "  Choose_columns()\n",
        "  vgs[columns].info()\n",
        "  for i in vgs[columns]:\n",
        "    print(\" \")\n",
        "    print(vgs[i].describe())\n",
        "\n",
        "def Show_unique_values():\n",
        "  Choose_columns()\n",
        "  for i in vgs[columns]:\n",
        "    print(\" \")\n",
        "    print(vgs[i].unique())\n",
        "\n",
        "def Show_histogram_per_year():\n",
        "  Choose_columns()\n",
        "  columns.append(\"Year\")\n",
        "  for i in vgs[columns]:\n",
        "    if i != \"Year\":\n",
        "      vgs[columns].hist(column=\"Year\", by=i)\n",
        "      plt.xticks(rotation=90)\n",
        "      plt.show()\n",
        "    else:\n",
        "      break\n",
        "\n",
        "def Show_correlation_map():\n",
        "  corr = vgs.corr()\n",
        "  f, ax = plt.subplots(figsize=(11, 9))\n",
        "  mask = np.triu(np.ones_like(corr, dtype=bool))\n",
        "  cmap = sns.diverging_palette(230, 20, as_cmap=True)\n",
        "  sns.heatmap(corr, mask=mask, cmap=cmap, vmax=.3, center=0,\n",
        "            square=True, linewidths=.5, cbar_kws={\"shrink\": .5})"
      ],
      "execution_count": 30,
      "outputs": []
    },
    {
      "cell_type": "code",
      "metadata": {
        "colab": {
          "base_uri": "https://localhost:8080/",
          "height": 397
        },
        "id": "85APMYEIxU4u",
        "outputId": "72526e63-62b9-40cf-ae41-586a5937e63e"
      },
      "source": [
        "# predict where will be the most sales based on genre,Platform,Global sales, year, highest sell ,,, check kaggle info, \n",
        "Show_histogram_per_year()"
      ],
      "execution_count": 32,
      "outputs": [
        {
          "output_type": "stream",
          "text": [
            "Do you want to choose column? \n",
            "yes\n",
            "which one?\n",
            "ESRB_Rating\n",
            "Do you want to choose column? \n",
            "no\n"
          ],
          "name": "stdout"
        },
        {
          "output_type": "display_data",
          "data": {
            "image/png": "[encoded data removed]",
            "text/plain": [
              "<Figure size 432x288 with 9 Axes>"
            ]
          },
          "metadata": {
            "tags": [],
            "needs_background": "light"
          }
        }
      ]
    }
  ]
}